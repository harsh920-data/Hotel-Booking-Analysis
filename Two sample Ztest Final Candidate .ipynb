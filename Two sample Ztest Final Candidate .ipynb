{
 "cells": [
  {
   "cell_type": "code",
   "execution_count": 562,
   "metadata": {},
   "outputs": [
    {
     "data": {
      "text/plain": [
       "Index(['hotel', 'is_canceled', 'lead_time', 'arrival_date_year',\n",
       "       'arrival_date_month', 'arrival_date_week_number',\n",
       "       'arrival_date_day_of_month', 'stays_in_weekend_nights',\n",
       "       'stays_in_week_nights', 'adults', 'children', 'babies', 'meal',\n",
       "       'country', 'market_segment', 'distribution_channel',\n",
       "       'is_repeated_guest', 'previous_cancellations',\n",
       "       'previous_bookings_not_canceled', 'reserved_room_type',\n",
       "       'assigned_room_type', 'booking_changes', 'deposit_type', 'agent',\n",
       "       'company', 'days_in_waiting_list', 'customer_type', 'adr',\n",
       "       'required_car_parking_spaces', 'total_of_special_requests',\n",
       "       'reservation_status', 'reservation_status_date'],\n",
       "      dtype='object')"
      ]
     },
     "execution_count": 562,
     "metadata": {},
     "output_type": "execute_result"
    }
   ],
   "source": [
    "import pandas as pd\n",
    "import numpy as np\n",
    "df = pd.read_csv('hotel_bookings.csv')\n",
    "df.columns"
   ]
  },
  {
   "cell_type": "code",
   "execution_count": 563,
   "metadata": {},
   "outputs": [
    {
     "data": {
      "text/plain": [
       "dtype('<M8[ns]')"
      ]
     },
     "execution_count": 563,
     "metadata": {},
     "output_type": "execute_result"
    }
   ],
   "source": [
    "#combining date columns into a single pandas date time format \n",
    "df['date'] =pd.to_datetime(df.arrival_date_year.astype(str) + df.arrival_date_month.astype(str) + df.arrival_date_day_of_month.astype(str), format='%Y%B%d')\n",
    "df['date'].dtype #data frame now contains a pandas date time format date column"
   ]
  },
  {
   "cell_type": "code",
   "execution_count": 564,
   "metadata": {},
   "outputs": [],
   "source": [
    "df = df.drop(['hotel', 'lead_time', 'arrival_date_year',\n",
    "       'arrival_date_month', 'arrival_date_week_number',\n",
    "       'arrival_date_day_of_month', 'stays_in_weekend_nights',\n",
    "       'stays_in_week_nights', 'adults', 'children', 'babies', 'meal',\n",
    "       'country', 'market_segment', 'distribution_channel',\n",
    "       'is_repeated_guest', 'previous_cancellations',\n",
    "       'previous_bookings_not_canceled', 'reserved_room_type',\n",
    "       'assigned_room_type', 'booking_changes', 'deposit_type', 'agent',\n",
    "       'company', 'days_in_waiting_list', 'customer_type',\n",
    "       'required_car_parking_spaces', 'total_of_special_requests',\n",
    "       'reservation_status', 'reservation_status_date'], axis=1)"
   ]
  },
  {
   "cell_type": "code",
   "execution_count": 565,
   "metadata": {},
   "outputs": [],
   "source": [
    "#Let's only explore datapoints in 2017 population\n",
    "#we only want dates past start of 2017\n",
    "df = df.loc[(df['date'] >= '2017-01-01')& (df['date'] <= '2017-12-31')]\n"
   ]
  },
  {
   "cell_type": "code",
   "execution_count": 566,
   "metadata": {},
   "outputs": [],
   "source": [
    "#extract a random sample of 600 for a two sample z test for comapring means\n",
    "df = df.sample(n=1000)"
   ]
  },
  {
   "cell_type": "code",
   "execution_count": 567,
   "metadata": {},
   "outputs": [
    {
     "name": "stdout",
     "output_type": "stream",
     "text": [
      "Canceled bookings skewness: 1.0567945507277423\n"
     ]
    },
    {
     "data": {
      "text/plain": [
       "<AxesSubplot:>"
      ]
     },
     "execution_count": 567,
     "metadata": {},
     "output_type": "execute_result"
    },
    {
     "data": {
      "image/png": "[encoded data removed]",
      "text/plain": [
       "<Figure size 432x288 with 1 Axes>"
      ]
     },
     "metadata": {
      "needs_background": "light"
     },
     "output_type": "display_data"
    }
   ],
   "source": [
    "#check for outliers/skewness in our dataset for canceled bookings\n",
    "print('Canceled bookings skewness:', df[df.is_canceled==1].adr.skew())\n",
    "df[df.is_canceled==1].adr.hist()\n"
   ]
  },
  {
   "cell_type": "code",
   "execution_count": 568,
   "metadata": {},
   "outputs": [
    {
     "name": "stdout",
     "output_type": "stream",
     "text": [
      "Canceled bookings skewness: 0.982627091649876\n"
     ]
    },
    {
     "data": {
      "text/plain": [
       "<AxesSubplot:>"
      ]
     },
     "execution_count": 568,
     "metadata": {},
     "output_type": "execute_result"
    },
    {
     "data": {
      "image/png": "[encoded data removed]",
      "text/plain": [
       "<Figure size 432x288 with 1 Axes>"
      ]
     },
     "metadata": {
      "needs_background": "light"
     },
     "output_type": "display_data"
    }
   ],
   "source": [
    "#check for outliers/skewness in our dataset for not canceled bookings\n",
    "print('Canceled bookings skewness:', df[df.is_canceled==0].adr.skew())\n",
    "df[df.is_canceled==0].adr.hist()"
   ]
  },
  {
   "cell_type": "code",
   "execution_count": 569,
   "metadata": {},
   "outputs": [
    {
     "name": "stdout",
     "output_type": "stream",
     "text": [
      "Q1: 89.1\n",
      "Q3: 140.0\n"
     ]
    }
   ],
   "source": [
    "#Since skewness is higher than moderate let's remove any outliers using box plot calculations\n",
    "#Canceled bookings outliers\n",
    "df.sort_values(\"adr\")\n",
    "q1_canceled, q3_canceled= np.percentile(df[df.is_canceled==1].adr,[25,75])\n",
    "print('Q1:', q1_canceled)\n",
    "print('Q3:',q3_canceled)"
   ]
  },
  {
   "cell_type": "code",
   "execution_count": 570,
   "metadata": {},
   "outputs": [
    {
     "data": {
      "text/plain": [
       "50.900000000000006"
      ]
     },
     "execution_count": 570,
     "metadata": {},
     "output_type": "execute_result"
    }
   ],
   "source": [
    "iqr_canceled = q3_canceled - q1_canceled\n",
    "iqr_canceled"
   ]
  },
  {
   "cell_type": "code",
   "execution_count": 571,
   "metadata": {},
   "outputs": [
    {
     "name": "stdout",
     "output_type": "stream",
     "text": [
      "Lower Bound_canceled: 12.749999999999986\n",
      "Upper Bound_canceled: 216.35000000000002\n"
     ]
    }
   ],
   "source": [
    "lower_bound_canceled = q1_canceled -(1.5 * iqr_canceled)\n",
    "upper_bound_canceled = q3_canceled +(1.5 * iqr_canceled)\n",
    "\n",
    "print('Lower Bound_canceled:', lower_bound_canceled)\n",
    "print('Upper Bound_canceled:', upper_bound_canceled)\n"
   ]
  },
  {
   "cell_type": "code",
   "execution_count": 572,
   "metadata": {},
   "outputs": [
    {
     "name": "stdout",
     "output_type": "stream",
     "text": [
      "Q1: 75.0\n",
      "Q3: 139.05\n",
      "Lower Bound_not_canceled: -21.075000000000017\n",
      "Upper Bound_not_canceled: 235.12500000000003\n"
     ]
    }
   ],
   "source": [
    "##Since skewness is higher than moderate let's remove any outliers using box plot calculations\n",
    "#Not Canceled bookings outliers\n",
    "q1_not_canceled, q3_not_canceled= np.percentile(df[df.is_canceled==0].adr,[25,75])\n",
    "print('Q1:', q1_not_canceled)\n",
    "print('Q3:',q3_not_canceled)\n",
    "\n",
    "iqr_not_canceled = q3_not_canceled - q1_not_canceled\n",
    "\n",
    "lower_bound_not_canceled = q1_not_canceled -(1.5 * iqr_not_canceled)\n",
    "upper_bound_not_canceled = q3_not_canceled +(1.5 * iqr_not_canceled)\n",
    "\n",
    "print('Lower Bound_not_canceled:', lower_bound_not_canceled)\n",
    "print('Upper Bound_not_canceled:', upper_bound_not_canceled)\n",
    "\n"
   ]
  },
  {
   "cell_type": "code",
   "execution_count": null,
   "metadata": {},
   "outputs": [],
   "source": []
  },
  {
   "cell_type": "code",
   "execution_count": null,
   "metadata": {},
   "outputs": [],
   "source": []
  },
  {
   "cell_type": "code",
   "execution_count": 573,
   "metadata": {},
   "outputs": [
    {
     "data": {
      "text/html": [
       "<div>\n",
       "<style scoped>\n",
       "    .dataframe tbody tr th:only-of-type {\n",
       "        vertical-align: middle;\n",
       "    }\n",
       "\n",
       "    .dataframe tbody tr th {\n",
       "        vertical-align: top;\n",
       "    }\n",
       "\n",
       "    .dataframe thead th {\n",
       "        text-align: right;\n",
       "    }\n",
       "</style>\n",
       "<table border=\"1\" class=\"dataframe\">\n",
       "  <thead>\n",
       "    <tr style=\"text-align: right;\">\n",
       "      <th></th>\n",
       "      <th>is_canceled</th>\n",
       "      <th>adr</th>\n",
       "      <th>date</th>\n",
       "    </tr>\n",
       "  </thead>\n",
       "  <tbody>\n",
       "    <tr>\n",
       "      <th>0</th>\n",
       "      <td>1</td>\n",
       "      <td>85.00</td>\n",
       "      <td>2017-03-21</td>\n",
       "    </tr>\n",
       "    <tr>\n",
       "      <th>1</th>\n",
       "      <td>1</td>\n",
       "      <td>99.00</td>\n",
       "      <td>2017-05-05</td>\n",
       "    </tr>\n",
       "    <tr>\n",
       "      <th>2</th>\n",
       "      <td>1</td>\n",
       "      <td>130.00</td>\n",
       "      <td>2017-05-01</td>\n",
       "    </tr>\n",
       "    <tr>\n",
       "      <th>3</th>\n",
       "      <td>1</td>\n",
       "      <td>48.00</td>\n",
       "      <td>2017-05-10</td>\n",
       "    </tr>\n",
       "    <tr>\n",
       "      <th>4</th>\n",
       "      <td>1</td>\n",
       "      <td>90.00</td>\n",
       "      <td>2017-07-28</td>\n",
       "    </tr>\n",
       "    <tr>\n",
       "      <th>...</th>\n",
       "      <td>...</td>\n",
       "      <td>...</td>\n",
       "      <td>...</td>\n",
       "    </tr>\n",
       "    <tr>\n",
       "      <th>952</th>\n",
       "      <td>0</td>\n",
       "      <td>80.10</td>\n",
       "      <td>2017-07-12</td>\n",
       "    </tr>\n",
       "    <tr>\n",
       "      <th>953</th>\n",
       "      <td>0</td>\n",
       "      <td>110.20</td>\n",
       "      <td>2017-07-04</td>\n",
       "    </tr>\n",
       "    <tr>\n",
       "      <th>954</th>\n",
       "      <td>0</td>\n",
       "      <td>116.00</td>\n",
       "      <td>2017-04-22</td>\n",
       "    </tr>\n",
       "    <tr>\n",
       "      <th>955</th>\n",
       "      <td>0</td>\n",
       "      <td>123.88</td>\n",
       "      <td>2017-08-30</td>\n",
       "    </tr>\n",
       "    <tr>\n",
       "      <th>956</th>\n",
       "      <td>0</td>\n",
       "      <td>170.00</td>\n",
       "      <td>2017-05-16</td>\n",
       "    </tr>\n",
       "  </tbody>\n",
       "</table>\n",
       "<p>957 rows × 3 columns</p>\n",
       "</div>"
      ],
      "text/plain": [
       "     is_canceled     adr       date\n",
       "0              1   85.00 2017-03-21\n",
       "1              1   99.00 2017-05-05\n",
       "2              1  130.00 2017-05-01\n",
       "3              1   48.00 2017-05-10\n",
       "4              1   90.00 2017-07-28\n",
       "..           ...     ...        ...\n",
       "952            0   80.10 2017-07-12\n",
       "953            0  110.20 2017-07-04\n",
       "954            0  116.00 2017-04-22\n",
       "955            0  123.88 2017-08-30\n",
       "956            0  170.00 2017-05-16\n",
       "\n",
       "[957 rows x 3 columns]"
      ]
     },
     "execution_count": 573,
     "metadata": {},
     "output_type": "execute_result"
    }
   ],
   "source": [
    "#canceled_filter = df[df.is_canceled==1]\n",
    "#df['adr_cleaned']=canceled_filter.adr[df.adr <0]\n",
    "df1 = df[(df.is_canceled==1) & (df.adr>lower_bound_canceled) & (df.adr<upper_bound_canceled)]\n",
    "df2 = df[(df.is_canceled==0) & (df.adr>lower_bound_not_canceled) & (df.adr<upper_bound_not_canceled)]\n",
    "\n",
    "df = pd.concat([df1, df2], ignore_index=True)\n",
    "df\n",
    "\n"
   ]
  },
  {
   "cell_type": "code",
   "execution_count": 574,
   "metadata": {},
   "outputs": [
    {
     "name": "stdout",
     "output_type": "stream",
     "text": [
      "Canceled bookings skewness: 0.5453434799366844\n",
      "Not_Canceled bookings skewness: 0.37902386591697124\n"
     ]
    }
   ],
   "source": [
    "#Now we can see that skewness is below 0.5\n",
    "print('Canceled bookings skewness:', df[df.is_canceled==1].adr.skew())\n",
    "print('Not_Canceled bookings skewness:', df[df.is_canceled==0].adr.skew())"
   ]
  },
  {
   "cell_type": "code",
   "execution_count": 575,
   "metadata": {},
   "outputs": [],
   "source": [
    "#Below we will perform a ztest to compare means"
   ]
  },
  {
   "cell_type": "code",
   "execution_count": null,
   "metadata": {},
   "outputs": [],
   "source": []
  },
  {
   "cell_type": "code",
   "execution_count": 576,
   "metadata": {},
   "outputs": [],
   "source": [
    "import statsmodels.stats.weightstats as ws\n",
    "not_canceled_adr = ws.DescrStatsW(df[df.is_canceled==0].adr)\n",
    "canceled_adr = ws.DescrStatsW(df[df.is_canceled==1].adr)\n",
    "\n"
   ]
  },
  {
   "cell_type": "code",
   "execution_count": 577,
   "metadata": {},
   "outputs": [
    {
     "name": "stdout",
     "output_type": "stream",
     "text": [
      "2.3709 0.01774298839110564\n"
     ]
    }
   ],
   "source": [
    "\n",
    "cm_obj = ws.CompareMeans(canceled_adr, not_canceled_adr)\n",
    "zstat, z_pval = cm_obj.ztest_ind()\n",
    "print(zstat.round(4), z_pval)"
   ]
  },
  {
   "cell_type": "code",
   "execution_count": null,
   "metadata": {},
   "outputs": [],
   "source": [
    "#We can conclude that means for the average daily rate for canceled and not canceled bookings are signficantly different \n",
    "#Average daily rate is a factor for whether a booking may be canceled or not"
   ]
  },
  {
   "cell_type": "code",
   "execution_count": null,
   "metadata": {},
   "outputs": [],
   "source": []
  }
 ],
 "metadata": {
  "kernelspec": {
   "display_name": "Python 3",
   "language": "python",
   "name": "python3"
  },
  "language_info": {
   "codemirror_mode": {
    "name": "ipython",
    "version": 3
   },
   "file_extension": ".py",
   "mimetype": "text/x-python",
   "name": "python",
   "nbconvert_exporter": "python",
   "pygments_lexer": "ipython3",
   "version": "3.8.5"
  }
 },
 "nbformat": 4,
 "nbformat_minor": 4
}
